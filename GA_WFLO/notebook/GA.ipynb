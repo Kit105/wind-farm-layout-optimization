{
 "cells": [
  {
   "cell_type": "code",
   "execution_count": 1,
   "id": "d4490d19",
   "metadata": {},
   "outputs": [],
   "source": [
    "import numpy as np\n",
    "import pandas as pd\n",
    "import math\n",
    "import argparse\n",
    "import sys\n",
    "import copy\n",
    "import time\n",
    "import random\n",
    "import os\n",
    "import matplotlib.pyplot as plt"
   ]
  },
  {
   "cell_type": "markdown",
   "id": "3cfbbbd9",
   "metadata": {},
   "source": [
    "Set Hyperparameters for GA, which include population, elite rate and crossover rate etc."
   ]
  },
  {
   "cell_type": "code",
   "execution_count": 2,
   "id": "e82d75c0",
   "metadata": {},
   "outputs": [
    {
     "data": {
      "text/plain": [
       "_StoreAction(option_strings=['--N_chr'], dest='N_chr', nargs=None, const=None, default=10, type=<class 'int'>, choices=None, help=None, metavar=None)"
      ]
     },
     "execution_count": 2,
     "metadata": {},
     "output_type": "execute_result"
    }
   ],
   "source": [
    "parser = argparse.ArgumentParser()\n",
    "parser.add_argument('--population', default=100, type=int)\n",
    "parser.add_argument('--elite_rate', default=0.2, type=float)\n",
    "parser.add_argument('--mutation_rate', default=0.2, type=float)\n",
    "parser.add_argument('--crossover_rate', default=0.6, type=float)\n",
    "parser.add_argument('--iteration', default=10, type=int)\n",
    "parser.add_argument('--N_chr', default=10, type=int)"
   ]
  },
  {
   "cell_type": "markdown",
   "id": "169e2b51",
   "metadata": {},
   "source": [
    "Set variables for experimental environment, like the wind speed and the scale of land."
   ]
  },
  {
   "cell_type": "code",
   "execution_count": 4,
   "id": "39393040",
   "metadata": {},
   "outputs": [],
   "source": [
    "ws = 16 # wind speed\n",
    "length = 2000 # width and length\n",
    "wake = 0.094 # wake decay coff\n",
    "air = 1.225 # air density\n",
    "Cef = 0.4 # eff\n",
    "Ct= 0.88 # thrust coff\n",
    "start_time = time.time()\n",
    "global  pr ,D , H ,N_r,recorded_best_fitness,time_recorded"
   ]
  },
  {
   "cell_type": "markdown",
   "id": "f3c57d62",
   "metadata": {},
   "source": [
    "Set the parameters of turbines, include the Diameter of turbine and the height of trubine."
   ]
  },
  {
   "cell_type": "code",
   "execution_count": 6,
   "id": "63e7f20a",
   "metadata": {},
   "outputs": [],
   "source": [
    "def read_data():\n",
    "    global  pr ,D , H, N_r\n",
    "    pr = 2 #megawatt\n",
    "    D = 63.6 #Diameter\n",
    "    H = 60 #Height\n",
    "    N_r = int(math.floor(length / (5*D)))"
   ]
  },
  {
   "cell_type": "markdown",
   "id": "515af650",
   "metadata": {},
   "source": [
    "Get a initial grid with 36 possible locations of turbine (6x6)"
   ]
  },
  {
   "cell_type": "code",
   "execution_count": 7,
   "id": "1253992f",
   "metadata": {},
   "outputs": [],
   "source": [
    "def Grid(D):\n",
    "    grid_layout = np.zeros((N_r,N_r))\n",
    "    return grid_layout"
   ]
  },
  {
   "cell_type": "markdown",
   "id": "680a5d34",
   "metadata": {},
   "source": [
    "Function that calculates the Cost of wind farm per year"
   ]
  },
  {
   "cell_type": "code",
   "execution_count": 8,
   "id": "f752963a",
   "metadata": {},
   "outputs": [],
   "source": [
    "def Cost(N_turbines):\n",
    "    #c= (N_turbines)*((1170*pr)+(1.5 * ( (0.016) * (D**2.8) * ((H/D)**(1.7)) * ((pr/A)**(0.6)))))\n",
    "    c = (N_turbines * ((2./3)+((1./3) * (np.exp((-0.00174*((N_turbines)**2)))))))\n",
    "    return c"
   ]
  },
  {
   "cell_type": "code",
   "execution_count": 9,
   "id": "f55a271a",
   "metadata": {},
   "outputs": [],
   "source": [
    "def Wake_effect(grid_layout):\n",
    "    A = (3.14) * ((D/2)**2) \n",
    "    P_matrix = np.zeros((N_r,N_r))\n",
    "    Vdf = np.zeros((N_r,N_r))\n",
    "    Dwk = np.zeros((N_r,N_r))\n",
    "    for i in range(N_r):\n",
    "        for j in range(N_r):\n",
    "            if j==0 and grid_layout[i][j] == 1:\n",
    "                P_matrix [i][j]=0.5* air * A * Cef * (ws**3)# * (10**-6) #megawatt\n",
    "            else:    \n",
    "                if(grid_layout[i][j] == 1):\n",
    "                    c_j = j\n",
    "                    c_empty = 0\n",
    "                    while c_j > 0:\n",
    "                        if grid_layout[i][c_j-1] == 0 :\n",
    "                            c_empty +=1\n",
    "                        else:\n",
    "                            break\n",
    "                        c_j=c_j-1\n",
    "                    s= 5.*D + ((5.*D)*c_empty)\n",
    "                    Dwk[i][j]=D +  (2 * wake * s)\n",
    "                    Vdf[i][j]=ws * ((1 - (math.sqrt(1-Ct))) * ((D/(Dwk[i][j]))**2))\n",
    "                    P_matrix [i][j]=0.5 * air * A * Cef * ((ws-Vdf[i][j])**3)        \n",
    "                        \n",
    "                else:\n",
    "                    Vdf[i][j] = 0\n",
    "                    P_matrix[i][j] = 0           \n",
    "    return P_matrix "
   ]
  },
  {
   "cell_type": "markdown",
   "id": "2d17b568",
   "metadata": {},
   "source": [
    "Function that calculates the power produced by wind farm per year."
   ]
  },
  {
   "cell_type": "code",
   "execution_count": 10,
   "id": "1c84aa09",
   "metadata": {},
   "outputs": [],
   "source": [
    "def Power(P_matrix):\n",
    "    p_total = np.sum(P_matrix ) *0.001\n",
    "    return p_total"
   ]
  },
  {
   "cell_type": "markdown",
   "id": "8c0186f5",
   "metadata": {},
   "source": [
    "objective function, which can be represented as cost(per year)/power(per year)"
   ]
  },
  {
   "cell_type": "code",
   "execution_count": 11,
   "id": "36e383d8",
   "metadata": {},
   "outputs": [],
   "source": [
    "def Obj_func (grid_layout ):\n",
    "    cou = 0\n",
    "    for i in range (N_r):\n",
    "        for j in range (N_r):\n",
    "            if grid_layout[i][j]==1:\n",
    "                cou=cou+1 \n",
    "    P_matrix = Wake_effect(grid_layout)\n",
    "    pow = Power(P_matrix)\n",
    "    co = Cost(cou)\n",
    "    obj = co/pow\n",
    "    return obj"
   ]
  },
  {
   "cell_type": "markdown",
   "id": "76a4cba4",
   "metadata": {},
   "source": [
    "Get a random solution for test"
   ]
  },
  {
   "cell_type": "code",
   "execution_count": 12,
   "id": "427accfd",
   "metadata": {},
   "outputs": [],
   "source": [
    "def random_sol(grid,N_turbines):\n",
    "    no_ones =0\n",
    "    while no_ones < N_turbines :\n",
    "        for i in range(N_r):\n",
    "            if no_ones == N_turbines :\n",
    "                    break\n",
    "            for j in range(N_r):\n",
    "                if no_ones == N_turbines :\n",
    "                    break\n",
    "                if random.uniform(0,1) < 0.7 and grid[i][j]!=1:\n",
    "                    grid[i][j]=1\n",
    "                    no_ones +=1\n",
    "                else:\n",
    "                    grid[i][j]=0\n",
    "                 \n",
    "    return grid"
   ]
  },
  {
   "cell_type": "markdown",
   "id": "5520818b",
   "metadata": {},
   "source": [
    "Selection process of GA, here we used elitist selection. It is one of the most basic selection strategies. The idea of this strategy is to copy the best individuals (called elite individuals) that have appeared so far in the evolutionary process of the population to the next generation without crossing. "
   ]
  },
  {
   "cell_type": "code",
   "execution_count": 13,
   "id": "bc44e081",
   "metadata": {},
   "outputs": [],
   "source": [
    "def Selection(G):\n",
    "    fitness_arr=[]\n",
    "    sorted_chr=[]\n",
    "    for i in range(len(G)) :\n",
    "        fitness_arr.append(Obj_func(G[i]))\n",
    "    sort=sorted(fitness_arr)\n",
    "\n",
    "    for i in range (len(G)):\n",
    "        for j in range(len(G)):\n",
    "            if sort[i]==Obj_func(G[j]):\n",
    "                sorted_chr.append(G[j])\n",
    "                break\n",
    "\n",
    "\n",
    "    return sorted_chr"
   ]
  },
  {
   "cell_type": "markdown",
   "id": "511d507d",
   "metadata": {},
   "source": [
    "Crossover process of GA. In this problem, we used two different parent generated by selection and Single point crossing to crossover parents and generate a new individual."
   ]
  },
  {
   "cell_type": "code",
   "execution_count": 14,
   "id": "7654fe98",
   "metadata": {},
   "outputs": [],
   "source": [
    "def Crossover(sorted_chr,Cp):\n",
    "    n_children_cross=int(Cp*len(sorted_chr))\n",
    "    global crossover\n",
    "    crossover = []\n",
    "    sorted_temp = copy.deepcopy(sorted_chr)\n",
    "    i=0\n",
    "    while(i<n_children_cross):\n",
    "        temp1 = copy.deepcopy(sorted_temp[i])\n",
    "        temp2 = copy.deepcopy(sorted_temp[i+1])\n",
    "        for j in range (len(sorted_chr[i])):\n",
    "            if np.random.rand()<0.7:\n",
    "                temp_row= copy.copy(temp1[j])\n",
    "                temp1[j] = temp2[j]\n",
    "                temp2[j] = temp_row\n",
    "        if Obj_func(temp1) < Obj_func(temp2):\n",
    "            crossover.append(temp1)\n",
    "        else:\n",
    "            crossover.append(temp2)\n",
    "        i = i +1\n",
    "    return crossover"
   ]
  },
  {
   "cell_type": "markdown",
   "id": "181a58ef",
   "metadata": {},
   "source": [
    "Mutation process of GA, we used uniform mutation. We set specific variation quantity Mp for offspring individuals, that randomly selected N genes in chromosomes for variation (change 0 to 1, and 1 to 0)."
   ]
  },
  {
   "cell_type": "code",
   "execution_count": 15,
   "id": "cbc5f15f",
   "metadata": {},
   "outputs": [],
   "source": [
    "def Mutation(sorted_chr,Mp):\n",
    "    n_mutated=int(Mp*len(sorted_chr))\n",
    "    i = len(sorted_chr)-1\n",
    "    counter = 0\n",
    "    mutated = []\n",
    "    temp = copy.deepcopy(sorted_chr)\n",
    "\n",
    "    while(counter < n_mutated):\n",
    "        for j in range(N_r):\n",
    "            for k in range(N_r):\n",
    "                t = np.random.rand()\n",
    "                if t < 0.5:\n",
    "                    if temp[i][j][k] ==1:\n",
    "        #               print temp[i][j][k] \n",
    "                        temp[i][j][k] =0\n",
    "        #               print temp[i][j][k]    \n",
    "                    else :\n",
    "                        temp[i][j][k] = 1\n",
    "\n",
    "\n",
    "        mutated.append(temp[i])\n",
    "        i=i-1\n",
    "        counter = counter+1               \n",
    "    return mutated        \n",
    "         "
   ]
  },
  {
   "cell_type": "markdown",
   "id": "acc1f908",
   "metadata": {},
   "source": [
    "Genetic Algorithm Function"
   ]
  },
  {
   "cell_type": "code",
   "execution_count": 75,
   "id": "1cab10d1",
   "metadata": {},
   "outputs": [],
   "source": [
    "def GA(population,N_chr,iteration,Mp,Cp,Ep):\n",
    "    global recorded_best_fitness,time_recorded,G,Best_sols_ever,best_so_far_sol\n",
    "    read_data()\n",
    "    G=[]\n",
    "    best_so_far_sol=[]\n",
    "    best_so_far_fitness = 1000\n",
    "    recorded_best_fitness = []\n",
    "\n",
    "    time_recorded =[]\n",
    "    for f in range(iteration):\n",
    "        G=[]\n",
    "        N_turbines = random.randint((N_r**2)//2,N_r**2)\n",
    "#         N_turbines=5\n",
    "#         N_turbines=15\n",
    "        print (\"This is iteration No\", f)\n",
    "        for i in range(N_chr):\n",
    "            grid_layout=Grid(D)\n",
    "            initial_solution = random_sol(grid_layout,N_turbines)\n",
    "            G.append(initial_solution)\n",
    "        for i in range (population):\n",
    "            sorting=Selection(G)\n",
    "            Best_sols_ever=[]\n",
    "            for j in range (int(Ep*len(G))):\n",
    "                Best_sols_ever.append(sorting[j])\n",
    "            Crossedover=Crossover(sorting,Cp)\n",
    "            for q in range (len(Crossedover)):\n",
    "                Best_sols_ever.append(Crossedover[q])\n",
    "\n",
    "            Mutated=Mutation(sorting,Mp)\n",
    "            for k in range (len(Mutated)):\n",
    "                Best_sols_ever.append(Mutated[k])\n",
    "\n",
    "            Best_sols_ever = Selection(Best_sols_ever)\n",
    "            if Obj_func(Best_sols_ever[0]) < best_so_far_fitness:\n",
    "                best_so_far_sol = Best_sols_ever[0]\n",
    "                best_so_far_fitness = Obj_func(best_so_far_sol)   \n",
    "                print (\"The Best So far solution\",best_so_far_fitness)\n",
    "            recorded_best_fitness.append(best_so_far_fitness)\n",
    "            time_recorded.append((time.time()-start_time)/60)\n",
    "            \n",
    "    plt.plot(recorded_best_fitness)\n",
    "    plt.title(\"GA with 10 samples\")\n",
    "#     f=plt.gcf()\n",
    "#     pic_dir = \"pics\"\n",
    "#     f.savefig(os.path.join(pic_dir,'GA_run_10.jpg'),dpi=500)\n",
    "    return best_so_far_sol"
   ]
  },
  {
   "cell_type": "markdown",
   "id": "2c795891",
   "metadata": {},
   "source": [
    "Show the results, and save them in current file"
   ]
  },
  {
   "cell_type": "code",
   "execution_count": 17,
   "id": "cda27627",
   "metadata": {},
   "outputs": [],
   "source": [
    "def show_result(iteration_number,fit,num_tub,total_power,total_cost,best_sols,best_time):\n",
    "    xfile_name = \"Run%d.txt\" % iteration_number\n",
    "    with open(xfile_name, \"w\") as xf:\n",
    "        xf.write(\"The best Fittness is \"+repr(fit)+ \".\\n\")\n",
    "        xf.write(\"****************************************\\n\")\n",
    "        xf.write(\"The best Number of turbines is \"+repr(num_tub)+ \".\\n\")\n",
    "        xf.write(\"****************************************\\n\")\n",
    "        xf.write(\"The Total power is \"+ repr(total_power)+ \".\\n\")\n",
    "        xf.write(\"****************************************\\n\")\n",
    "        xf.write(\"The Total cost is \"+repr(total_cost)+ \".\\n\")\n",
    "        xf.write(\"****************************************\\n\")\n",
    "        xf.write(\"The Recoreded best solutions are \\n\"+repr(best_sols)+ \".\\n\")\n",
    "        xf.write(\"****************************************\\n\")\n",
    "        xf.write(\"The time over iterations\\n\"+ repr(best_time)+ \".\\n\")\n",
    "        xf.write(\"****************************************\\n\")"
   ]
  },
  {
   "cell_type": "code",
   "execution_count": 18,
   "id": "e5cf5a7a",
   "metadata": {},
   "outputs": [],
   "source": [
    "def main(args):\n",
    "    \n",
    "    for i in range(5):\n",
    "        best = GA(args.population,args.N_chr,args.iteration,args.mutation_rate,args.crossover_rate,args.elite_rate)\n",
    "        countt = 0\n",
    "        for j in range (N_r):\n",
    "            for k in range (N_r):\n",
    "                if best[j][k]==1:\n",
    "                    countt=countt+1 \n",
    "        best_fit = Obj_func(best)\n",
    "        p_m=Wake_effect(best)   \n",
    "        Total_power = Power(p_m)\n",
    "        Total_cost =Cost(countt)\n",
    "        show_result(i,best_fit,countt,Total_power,Total_cost,recorded_best_fitness,time_recorded)"
   ]
  },
  {
   "cell_type": "code",
   "execution_count": 76,
   "id": "e498b26f",
   "metadata": {},
   "outputs": [
    {
     "name": "stdout",
     "output_type": "stream",
     "text": [
      "This is iteration No 0\n",
      "The Best So far solution 0.0003643761448738055\n",
      "The Best So far solution 0.0003640260629595481\n",
      "The Best So far solution 0.00035657534443247194\n",
      "The Best So far solution 0.0003554388290266466\n",
      "The Best So far solution 0.00035288975104961096\n",
      "This is iteration No 1\n",
      "The Best So far solution 0.0003512692384282946\n",
      "The Best So far solution 0.0003420232002466589\n",
      "This is iteration No 2\n",
      "This is iteration No 3\n",
      "This is iteration No 4\n",
      "This is iteration No 5\n",
      "This is iteration No 6\n",
      "The Best So far solution 0.00033684740410468963\n",
      "This is iteration No 7\n",
      "This is iteration No 8\n",
      "This is iteration No 9\n",
      "This is iteration No 0\n",
      "The Best So far solution 0.00037606538769695107\n",
      "The Best So far solution 0.00035784419825326695\n",
      "The Best So far solution 0.00035546016123958856\n",
      "This is iteration No 1\n",
      "The Best So far solution 0.00035427729127336926\n",
      "This is iteration No 2\n",
      "The Best So far solution 0.00035177485379402003\n",
      "The Best So far solution 0.00035109045115842255\n",
      "This is iteration No 3\n",
      "This is iteration No 4\n",
      "The Best So far solution 0.00035065779629761816\n",
      "The Best So far solution 0.000349008955126071\n",
      "The Best So far solution 0.0003435267192399772\n",
      "This is iteration No 5\n",
      "This is iteration No 6\n",
      "This is iteration No 7\n",
      "This is iteration No 8\n",
      "This is iteration No 9\n",
      "This is iteration No 0\n",
      "The Best So far solution 0.0003698012772216923\n",
      "The Best So far solution 0.00036379525240330587\n",
      "The Best So far solution 0.00036245901640602935\n",
      "This is iteration No 1\n",
      "The Best So far solution 0.0003539627757428726\n",
      "The Best So far solution 0.00034993892970304084\n",
      "This is iteration No 2\n",
      "The Best So far solution 0.0003471237968982547\n",
      "The Best So far solution 0.000343752660941896\n",
      "The Best So far solution 0.0003434680225359359\n",
      "This is iteration No 3\n",
      "The Best So far solution 0.0003319717425160309\n",
      "The Best So far solution 0.00032846545641572044\n",
      "This is iteration No 4\n",
      "This is iteration No 5\n",
      "This is iteration No 6\n",
      "This is iteration No 7\n",
      "This is iteration No 8\n",
      "This is iteration No 9\n",
      "This is iteration No 0\n",
      "The Best So far solution 0.0003750251065803833\n",
      "The Best So far solution 0.000371913148830447\n",
      "The Best So far solution 0.0003597236241102003\n",
      "This is iteration No 1\n",
      "The Best So far solution 0.00035502069543150465\n",
      "This is iteration No 2\n",
      "This is iteration No 3\n",
      "The Best So far solution 0.0003507182025966777\n",
      "The Best So far solution 0.00034823614781405085\n",
      "This is iteration No 4\n",
      "This is iteration No 5\n",
      "This is iteration No 6\n",
      "This is iteration No 7\n",
      "This is iteration No 8\n",
      "The Best So far solution 0.00034700568942480777\n",
      "This is iteration No 9\n",
      "This is iteration No 0\n",
      "The Best So far solution 0.0003730644610467624\n",
      "The Best So far solution 0.000367132714686667\n",
      "This is iteration No 1\n",
      "The Best So far solution 0.0003527723252433764\n",
      "The Best So far solution 0.0003426476331654312\n",
      "The Best So far solution 0.0003422276771024659\n",
      "This is iteration No 2\n",
      "This is iteration No 3\n",
      "The Best So far solution 0.00033943295202944554\n",
      "This is iteration No 4\n",
      "This is iteration No 5\n",
      "This is iteration No 6\n",
      "This is iteration No 7\n",
      "This is iteration No 8\n",
      "This is iteration No 9\n"
     ]
    },
    {
     "data": {
      "image/png": "[encoded data removed]",
      "text/plain": [
       "<Figure size 432x288 with 1 Axes>"
      ]
     },
     "metadata": {
      "needs_background": "light"
     },
     "output_type": "display_data"
    }
   ],
   "source": [
    "if __name__ == '__main__':\n",
    "    args = parser.parse_args(args=[])\n",
    "    main(args)"
   ]
  },
  {
   "cell_type": "markdown",
   "id": "4e0c8812",
   "metadata": {},
   "source": [
    "Show the optimal solution in plot."
   ]
  },
  {
   "cell_type": "code",
   "execution_count": 169,
   "id": "8fc454dd",
   "metadata": {},
   "outputs": [
    {
     "data": {
      "image/png": "[encoded data removed]",
      "text/plain": [
       "<Figure size 432x288 with 1 Axes>"
      ]
     },
     "metadata": {
      "needs_background": "light"
     },
     "output_type": "display_data"
    }
   ],
   "source": [
    "plt.plot(recorded_best_fitness)\n",
    "f=plt.gcf()\n",
    "pic_dir = \"pics\"\n",
    "f.savefig(os.path.join(pic_dir,'GA_final(2).jpg'),dpi=1000)"
   ]
  },
  {
   "cell_type": "markdown",
   "id": "7b037c5b",
   "metadata": {},
   "source": [
    "Get the layout of the optimal solution."
   ]
  },
  {
   "cell_type": "code",
   "execution_count": 165,
   "id": "cbcabcd9",
   "metadata": {},
   "outputs": [
    {
     "data": {
      "text/plain": [
       "[array([[1., 1., 0., 0., 1., 1.],\n",
       "        [1., 0., 0., 1., 0., 1.],\n",
       "        [1., 0., 1., 1., 0., 1.],\n",
       "        [1., 1., 1., 0., 1., 1.],\n",
       "        [1., 1., 1., 1., 0., 1.],\n",
       "        [1., 0., 1., 1., 1., 1.]]),\n",
       " array([[0., 0., 0., 0., 0., 0.],\n",
       "        [1., 0., 0., 1., 0., 1.],\n",
       "        [1., 0., 1., 1., 0., 1.],\n",
       "        [0., 0., 0., 0., 1., 0.],\n",
       "        [1., 0., 0., 0., 0., 1.],\n",
       "        [0., 1., 0., 1., 0., 1.]]),\n",
       " array([[1., 1., 0., 0., 1., 1.],\n",
       "        [1., 0., 1., 1., 1., 1.],\n",
       "        [0., 1., 1., 1., 1., 1.],\n",
       "        [1., 1., 1., 0., 1., 1.],\n",
       "        [1., 1., 1., 1., 0., 1.],\n",
       "        [1., 0., 1., 1., 1., 1.]]),\n",
       " array([[0., 0., 0., 0., 1., 0.],\n",
       "        [0., 1., 0., 0., 0., 1.],\n",
       "        [1., 0., 0., 1., 0., 0.],\n",
       "        [0., 0., 1., 0., 0., 0.],\n",
       "        [1., 0., 0., 0., 0., 0.],\n",
       "        [1., 1., 1., 0., 0., 1.]]),\n",
       " array([[0., 0., 0., 0., 0., 0.],\n",
       "        [1., 0., 0., 1., 0., 1.],\n",
       "        [1., 0., 1., 1., 0., 1.],\n",
       "        [0., 0., 0., 0., 1., 0.],\n",
       "        [1., 0., 0., 0., 0., 0.],\n",
       "        [0., 1., 0., 1., 0., 1.]]),\n",
       " array([[1., 0., 0., 1., 1., 0.],\n",
       "        [0., 1., 0., 0., 0., 1.],\n",
       "        [1., 1., 1., 1., 0., 0.],\n",
       "        [1., 0., 0., 1., 0., 0.],\n",
       "        [1., 0., 1., 1., 1., 1.],\n",
       "        [1., 0., 1., 1., 1., 0.]]),\n",
       " array([[0., 1., 0., 0., 0., 0.],\n",
       "        [0., 0., 1., 0., 0., 0.],\n",
       "        [1., 0., 0., 0., 1., 0.],\n",
       "        [0., 0., 1., 0., 0., 0.],\n",
       "        [0., 1., 0., 0., 0., 1.],\n",
       "        [1., 0., 1., 1., 0., 1.]]),\n",
       " array([[0., 1., 0., 0., 0., 0.],\n",
       "        [0., 1., 0., 0., 0., 1.],\n",
       "        [1., 0., 0., 0., 1., 0.],\n",
       "        [0., 0., 0., 0., 0., 0.],\n",
       "        [0., 1., 0., 0., 0., 1.],\n",
       "        [1., 0., 1., 1., 0., 1.]]),\n",
       " array([[0., 0., 1., 0., 0., 0.],\n",
       "        [0., 1., 0., 0., 0., 1.],\n",
       "        [0., 1., 0., 0., 0., 0.],\n",
       "        [0., 0., 0., 1., 0., 0.],\n",
       "        [1., 0., 0., 0., 0., 1.],\n",
       "        [0., 0., 0., 1., 1., 0.]]),\n",
       " array([[0., 0., 1., 0., 1., 0.],\n",
       "        [1., 1., 0., 1., 0., 0.],\n",
       "        [1., 1., 0., 0., 1., 1.],\n",
       "        [0., 1., 1., 0., 1., 1.],\n",
       "        [0., 0., 1., 0., 0., 1.],\n",
       "        [0., 1., 1., 1., 1., 0.]])]"
      ]
     },
     "execution_count": 165,
     "metadata": {},
     "output_type": "execute_result"
    }
   ],
   "source": [
    "Best_sols_ever"
   ]
  },
  {
   "cell_type": "code",
   "execution_count": 90,
   "id": "6c5a5933",
   "metadata": {},
   "outputs": [
    {
     "data": {
      "image/png": "[encoded data removed]",
      "text/plain": [
       "<Figure size 432x288 with 1 Axes>"
      ]
     },
     "metadata": {
      "needs_background": "light"
     },
     "output_type": "display_data"
    }
   ],
   "source": [
    "plt.plot(i_5_t_10,label='10 turbines for GA(optimal:3.122*10^-4)')\n",
    "plt.plot(i_5_t_15,label='15 turbines for GA(optimal:3.123*10^-4)')\n",
    "plt.plot(i_5_t_11,label='11 turbines for PSO(optimal:3.020*10^-4)')\n",
    "plt.plot(i_5_t_14,label='14 turbines for PSO(optimal:3.037*10^-4)')\n",
    "plt.xlabel(\"opt step\")\n",
    "plt.ylabel(\"Objective\")\n",
    "plt.legend()\n",
    "f=plt.gcf()\n",
    "pic_dir = \"pics\"\n",
    "f.savefig(os.path.join(pic_dir,'N_turbine.jpg'),dpi=1000)"
   ]
  },
  {
   "cell_type": "code",
   "execution_count": null,
   "id": "906ff818",
   "metadata": {},
   "outputs": [],
   "source": []
  }
 ],
 "metadata": {
  "kernelspec": {
   "display_name": "Python 3 (ipykernel)",
   "language": "python",
   "name": "python3"
  },
  "language_info": {
   "codemirror_mode": {
    "name": "ipython",
    "version": 3
   },
   "file_extension": ".py",
   "mimetype": "text/x-python",
   "name": "python",
   "nbconvert_exporter": "python",
   "pygments_lexer": "ipython3",
   "version": "3.9.12"
  }
 },
 "nbformat": 4,
 "nbformat_minor": 5
}
